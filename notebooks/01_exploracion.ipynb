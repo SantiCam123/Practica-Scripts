{
 "cells": [
  {
   "cell_type": "code",
   "execution_count": 3,
   "id": "8393fd27",
   "metadata": {},
   "outputs": [],
   "source": [
    "# Celda 1 — Imports y carga\n",
    "import pandas as pd\n",
    "import matplotlib.pyplot as plt\n",
    "\n",
    "# Ruta relativa desde /notebooks a /data/raw\n",
    "csv_path = \"../data/raw/orders_sample.csv\"  # p. ej.: \"../data/raw/orders_sample.csv\"\n",
    "\n",
    "# Carga parseando la columna de fecha\n",
    "df = pd.read_csv(csv_path, parse_dates=[\"date\"])  # TODO: completa argumentos\n",
    "\n",
    "# Vistazo rápido\n",
    "#df.head() # mostrar 5 filas\n",
    "#df.info() # mostrar dtypes"
   ]
  },
  {
   "cell_type": "code",
   "execution_count": 4,
   "id": "79a5032b",
   "metadata": {},
   "outputs": [
    {
     "data": {
      "application/vnd.microsoft.datawrangler.viewer.v0+json": {
       "columns": [
        {
         "name": "index",
         "rawType": "int64",
         "type": "integer"
        },
        {
         "name": "units",
         "rawType": "int64",
         "type": "integer"
        },
        {
         "name": "unit_price",
         "rawType": "float64",
         "type": "float"
        },
        {
         "name": "order_total",
         "rawType": "float64",
         "type": "float"
        }
       ],
       "ref": "ed74dee1-1867-4ede-8e27-68424a2214ef",
       "rows": [
        [
         "0",
         "2",
         "12.0",
         "24.0"
        ],
        [
         "1",
         "1",
         "9.0",
         "9.0"
        ],
        [
         "2",
         "1",
         "640.0",
         "640.0"
        ],
        [
         "3",
         "3",
         "29.9",
         "89.69999999999999"
        ],
        [
         "4",
         "1",
         "179.0",
         "179.0"
        ]
       ],
       "shape": {
        "columns": 3,
        "rows": 5
       }
      },
      "text/html": [
       "<div>\n",
       "<style scoped>\n",
       "    .dataframe tbody tr th:only-of-type {\n",
       "        vertical-align: middle;\n",
       "    }\n",
       "\n",
       "    .dataframe tbody tr th {\n",
       "        vertical-align: top;\n",
       "    }\n",
       "\n",
       "    .dataframe thead th {\n",
       "        text-align: right;\n",
       "    }\n",
       "</style>\n",
       "<table border=\"1\" class=\"dataframe\">\n",
       "  <thead>\n",
       "    <tr style=\"text-align: right;\">\n",
       "      <th></th>\n",
       "      <th>units</th>\n",
       "      <th>unit_price</th>\n",
       "      <th>order_total</th>\n",
       "    </tr>\n",
       "  </thead>\n",
       "  <tbody>\n",
       "    <tr>\n",
       "      <th>0</th>\n",
       "      <td>2</td>\n",
       "      <td>12.0</td>\n",
       "      <td>24.0</td>\n",
       "    </tr>\n",
       "    <tr>\n",
       "      <th>1</th>\n",
       "      <td>1</td>\n",
       "      <td>9.0</td>\n",
       "      <td>9.0</td>\n",
       "    </tr>\n",
       "    <tr>\n",
       "      <th>2</th>\n",
       "      <td>1</td>\n",
       "      <td>640.0</td>\n",
       "      <td>640.0</td>\n",
       "    </tr>\n",
       "    <tr>\n",
       "      <th>3</th>\n",
       "      <td>3</td>\n",
       "      <td>29.9</td>\n",
       "      <td>89.7</td>\n",
       "    </tr>\n",
       "    <tr>\n",
       "      <th>4</th>\n",
       "      <td>1</td>\n",
       "      <td>179.0</td>\n",
       "      <td>179.0</td>\n",
       "    </tr>\n",
       "  </tbody>\n",
       "</table>\n",
       "</div>"
      ],
      "text/plain": [
       "   units  unit_price  order_total\n",
       "0      2        12.0         24.0\n",
       "1      1         9.0          9.0\n",
       "2      1       640.0        640.0\n",
       "3      3        29.9         89.7\n",
       "4      1       179.0        179.0"
      ]
     },
     "execution_count": 4,
     "metadata": {},
     "output_type": "execute_result"
    }
   ],
   "source": [
    "# Celda 2 — Conteos y columna derivada\n",
    "# Conteo de estados y países\n",
    "status_counts = df[\"status\"].value_counts()      # TODO: value_counts sobre df[\"status\"]\n",
    "country_counts = df[\"country\"].value_counts()     # TODO: value_counts sobre df[\"country\"]\n",
    "\n",
    "# Crear columna order_total = units * unit_price\n",
    "df[\"order_total\"] = df[\"units\"] * df[\"unit_price\"]  # TODO: operación vectorizada\n",
    "\n",
    "# Vista de algunas columnas clave\n",
    "df[[\"units\", \"unit_price\", \"order_total\"]].head()  # TODO: selecciona columnas"
   ]
  },
  {
   "cell_type": "code",
   "execution_count": 7,
   "id": "da6c7145",
   "metadata": {},
   "outputs": [
    {
     "data": {
      "image/png": "[encoded data removed]",
      "text/plain": [
       "<Figure size 640x480 with 1 Axes>"
      ]
     },
     "metadata": {},
     "output_type": "display_data"
    }
   ],
   "source": [
    "# Celda 3 — Ingresos diarios (paid)\n",
    "df_paid = df[df[\"status\"] == \"paid\"].copy()  # Filtra solo pedidos pagados\n",
    "\n",
    "daily_rev = df_paid.groupby(\"date\")[\"order_total\"].sum()  # TODO: agrupa por \"date\" y suma \"order_total\"\n",
    "\n",
    "ax = daily_rev.plot(kind=\"bar\", title=\"Ingresos diarios (solo paid)\", color=\"green\")\n",
    "ax.set_xlabel(\"Fecha\")\n",
    "ax.set_ylabel(\"Ingresos\")\n",
    "plt.tight_layout()\n",
    "plt.show()"
   ]
  },
  {
   "cell_type": "code",
   "execution_count": 8,
   "id": "db13f358",
   "metadata": {},
   "outputs": [
    {
     "data": {
      "image/png": "[encoded data removed]",
      "text/plain": [
       "<Figure size 640x480 with 1 Axes>"
      ]
     },
     "metadata": {},
     "output_type": "display_data"
    }
   ],
   "source": [
    "# Celda 4 — Pedidos por país (paid)\n",
    "paid_country_counts = df_paid[\"country\"].value_counts()  # TODO: columna país\n",
    "\n",
    "ax = paid_country_counts.plot(kind=\"bar\", title=\"Pedidos por país (paid)\", color=\"orange\")\n",
    "ax.set_xlabel(\"País\")\n",
    "ax.set_ylabel(\"Nº pedidos\")\n",
    "plt.tight_layout()\n",
    "plt.show()"
   ]
  },
  {
   "cell_type": "code",
   "execution_count": 18,
   "id": "2484a222",
   "metadata": {},
   "outputs": [
    {
     "name": "stdout",
     "output_type": "stream",
     "text": [
      "Número de ordenes: 6, Cuánto generamos: 1618.0, Media de ordenes: 269.67\n"
     ]
    }
   ],
   "source": [
    "# Celda 5 — Filtros + KPIs manuales\n",
    "start = \"2025-09-27\"   # puedes cambiarlo\n",
    "end = \"2025-10-01\"   # puedes cambiarlo\n",
    "country = \"ES\"         # puedes cambiarlo\n",
    "\n",
    "mask = (\n",
    "    (df[\"date\"] >= pd.to_datetime(start)) &   # TODO: start\n",
    "    (df[\"date\"] <= pd.to_datetime(end)) &   # TODO: end\n",
    "    (df[\"country\"] == country)                  # TODO: país\n",
    ")\n",
    "sub = df[mask].copy()\n",
    "sub_paid = sub[sub[\"status\"] == \"paid\"].copy()   # TODO: paid (aprovecha para fijarte como funciona una mascara)\n",
    "\n",
    "num_orders = sub_paid[\"order_id\"].count()  # TODO: nº filas\n",
    "total_revenue = sub_paid[\"order_total\"].sum()  # TODO: suma de units * unit_price en sub_paid\n",
    "avg_order_value = round(total_revenue / num_orders, 2) if num_orders > 0 else 0.0  # TODO: media condicionada (cuidado con 0 pedidos)\n",
    "\n",
    "print(\"Número de ordenes: {num_orders}, Cuánto generamos: {total_revenue}, Media de ordenes: {avg_order_value}\".format(\n",
    "    num_orders=num_orders,\n",
    "    total_revenue=total_revenue,\n",
    "    avg_order_value=avg_order_value))"
   ]
  },
  {
   "cell_type": "markdown",
   "id": "7e274de9",
   "metadata": {},
   "source": [
    "* Filtros aplicables (`start`, `end`, `country`).\n",
    "* KPIs **solo con `status=\"paid\"`**.\n",
    "* Redondeos (p. ej., 2 decimales).\n",
    "* Si `num_orders==0`, `avg_order_value = 0.0`."
   ]
  }
 ],
 "metadata": {
  "kernelspec": {
   "display_name": "salescli",
   "language": "python",
   "name": "python3"
  },
  "language_info": {
   "codemirror_mode": {
    "name": "ipython",
    "version": 3
   },
   "file_extension": ".py",
   "mimetype": "text/x-python",
   "name": "python",
   "nbconvert_exporter": "python",
   "pygments_lexer": "ipython3",
   "version": "3.11.13"
  }
 },
 "nbformat": 4,
 "nbformat_minor": 5
}
